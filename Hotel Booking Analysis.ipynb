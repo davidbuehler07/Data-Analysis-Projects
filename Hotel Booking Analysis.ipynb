{
 "cells": [
  {
   "cell_type": "code",
   "execution_count": 1,
   "metadata": {},
   "outputs": [
    {
     "name": "stderr",
     "output_type": "stream",
     "text": [
      "Using TensorFlow backend.\n"
     ]
    }
   ],
   "source": [
    "import pandas as pd\n",
    "import numpy as np\n",
    "import matplotlib.pyplot as plt\n",
    "import seaborn as sns\n",
    "\n",
    "from sklearn.linear_model import LogisticRegression\n",
    "from sklearn.model_selection import train_test_split, GridSearchCV\n",
    "from sklearn.metrics import confusion_matrix, classification_report, accuracy_score, matthews_corrcoef, auc, precision_recall_curve\n",
    "from sklearn.pipeline import Pipeline\n",
    "\n",
    "from keras.models import Sequential\n",
    "from keras.layers import Dense\n",
    "from keras.utils import to_categorical"
   ]
  },
  {
   "cell_type": "code",
   "execution_count": 2,
   "metadata": {},
   "outputs": [
    {
     "data": {
      "text/html": [
       "<div>\n",
       "<style scoped>\n",
       "    .dataframe tbody tr th:only-of-type {\n",
       "        vertical-align: middle;\n",
       "    }\n",
       "\n",
       "    .dataframe tbody tr th {\n",
       "        vertical-align: top;\n",
       "    }\n",
       "\n",
       "    .dataframe thead th {\n",
       "        text-align: right;\n",
       "    }\n",
       "</style>\n",
       "<table border=\"1\" class=\"dataframe\">\n",
       "  <thead>\n",
       "    <tr style=\"text-align: right;\">\n",
       "      <th></th>\n",
       "      <th>hotel</th>\n",
       "      <th>is_canceled</th>\n",
       "      <th>lead_time</th>\n",
       "      <th>arrival_date_year</th>\n",
       "      <th>arrival_date_month</th>\n",
       "      <th>arrival_date_week_number</th>\n",
       "      <th>arrival_date_day_of_month</th>\n",
       "      <th>stays_in_weekend_nights</th>\n",
       "      <th>stays_in_week_nights</th>\n",
       "      <th>adults</th>\n",
       "      <th>...</th>\n",
       "      <th>deposit_type</th>\n",
       "      <th>agent</th>\n",
       "      <th>company</th>\n",
       "      <th>days_in_waiting_list</th>\n",
       "      <th>customer_type</th>\n",
       "      <th>adr</th>\n",
       "      <th>required_car_parking_spaces</th>\n",
       "      <th>total_of_special_requests</th>\n",
       "      <th>reservation_status</th>\n",
       "      <th>reservation_status_date</th>\n",
       "    </tr>\n",
       "  </thead>\n",
       "  <tbody>\n",
       "    <tr>\n",
       "      <th>0</th>\n",
       "      <td>Resort Hotel</td>\n",
       "      <td>0</td>\n",
       "      <td>342</td>\n",
       "      <td>2015</td>\n",
       "      <td>July</td>\n",
       "      <td>27</td>\n",
       "      <td>1</td>\n",
       "      <td>0</td>\n",
       "      <td>0</td>\n",
       "      <td>2</td>\n",
       "      <td>...</td>\n",
       "      <td>No Deposit</td>\n",
       "      <td>NaN</td>\n",
       "      <td>NaN</td>\n",
       "      <td>0</td>\n",
       "      <td>Transient</td>\n",
       "      <td>0.0</td>\n",
       "      <td>0</td>\n",
       "      <td>0</td>\n",
       "      <td>Check-Out</td>\n",
       "      <td>2015-07-01</td>\n",
       "    </tr>\n",
       "    <tr>\n",
       "      <th>1</th>\n",
       "      <td>Resort Hotel</td>\n",
       "      <td>0</td>\n",
       "      <td>737</td>\n",
       "      <td>2015</td>\n",
       "      <td>July</td>\n",
       "      <td>27</td>\n",
       "      <td>1</td>\n",
       "      <td>0</td>\n",
       "      <td>0</td>\n",
       "      <td>2</td>\n",
       "      <td>...</td>\n",
       "      <td>No Deposit</td>\n",
       "      <td>NaN</td>\n",
       "      <td>NaN</td>\n",
       "      <td>0</td>\n",
       "      <td>Transient</td>\n",
       "      <td>0.0</td>\n",
       "      <td>0</td>\n",
       "      <td>0</td>\n",
       "      <td>Check-Out</td>\n",
       "      <td>2015-07-01</td>\n",
       "    </tr>\n",
       "    <tr>\n",
       "      <th>2</th>\n",
       "      <td>Resort Hotel</td>\n",
       "      <td>0</td>\n",
       "      <td>7</td>\n",
       "      <td>2015</td>\n",
       "      <td>July</td>\n",
       "      <td>27</td>\n",
       "      <td>1</td>\n",
       "      <td>0</td>\n",
       "      <td>1</td>\n",
       "      <td>1</td>\n",
       "      <td>...</td>\n",
       "      <td>No Deposit</td>\n",
       "      <td>NaN</td>\n",
       "      <td>NaN</td>\n",
       "      <td>0</td>\n",
       "      <td>Transient</td>\n",
       "      <td>75.0</td>\n",
       "      <td>0</td>\n",
       "      <td>0</td>\n",
       "      <td>Check-Out</td>\n",
       "      <td>2015-07-02</td>\n",
       "    </tr>\n",
       "    <tr>\n",
       "      <th>3</th>\n",
       "      <td>Resort Hotel</td>\n",
       "      <td>0</td>\n",
       "      <td>13</td>\n",
       "      <td>2015</td>\n",
       "      <td>July</td>\n",
       "      <td>27</td>\n",
       "      <td>1</td>\n",
       "      <td>0</td>\n",
       "      <td>1</td>\n",
       "      <td>1</td>\n",
       "      <td>...</td>\n",
       "      <td>No Deposit</td>\n",
       "      <td>304.0</td>\n",
       "      <td>NaN</td>\n",
       "      <td>0</td>\n",
       "      <td>Transient</td>\n",
       "      <td>75.0</td>\n",
       "      <td>0</td>\n",
       "      <td>0</td>\n",
       "      <td>Check-Out</td>\n",
       "      <td>2015-07-02</td>\n",
       "    </tr>\n",
       "    <tr>\n",
       "      <th>4</th>\n",
       "      <td>Resort Hotel</td>\n",
       "      <td>0</td>\n",
       "      <td>14</td>\n",
       "      <td>2015</td>\n",
       "      <td>July</td>\n",
       "      <td>27</td>\n",
       "      <td>1</td>\n",
       "      <td>0</td>\n",
       "      <td>2</td>\n",
       "      <td>2</td>\n",
       "      <td>...</td>\n",
       "      <td>No Deposit</td>\n",
       "      <td>240.0</td>\n",
       "      <td>NaN</td>\n",
       "      <td>0</td>\n",
       "      <td>Transient</td>\n",
       "      <td>98.0</td>\n",
       "      <td>0</td>\n",
       "      <td>1</td>\n",
       "      <td>Check-Out</td>\n",
       "      <td>2015-07-03</td>\n",
       "    </tr>\n",
       "  </tbody>\n",
       "</table>\n",
       "<p>5 rows × 32 columns</p>\n",
       "</div>"
      ],
      "text/plain": [
       "          hotel  is_canceled  lead_time  arrival_date_year arrival_date_month  \\\n",
       "0  Resort Hotel            0        342               2015               July   \n",
       "1  Resort Hotel            0        737               2015               July   \n",
       "2  Resort Hotel            0          7               2015               July   \n",
       "3  Resort Hotel            0         13               2015               July   \n",
       "4  Resort Hotel            0         14               2015               July   \n",
       "\n",
       "   arrival_date_week_number  arrival_date_day_of_month  \\\n",
       "0                        27                          1   \n",
       "1                        27                          1   \n",
       "2                        27                          1   \n",
       "3                        27                          1   \n",
       "4                        27                          1   \n",
       "\n",
       "   stays_in_weekend_nights  stays_in_week_nights  adults  ...  deposit_type  \\\n",
       "0                        0                     0       2  ...    No Deposit   \n",
       "1                        0                     0       2  ...    No Deposit   \n",
       "2                        0                     1       1  ...    No Deposit   \n",
       "3                        0                     1       1  ...    No Deposit   \n",
       "4                        0                     2       2  ...    No Deposit   \n",
       "\n",
       "   agent company days_in_waiting_list customer_type   adr  \\\n",
       "0    NaN     NaN                    0     Transient   0.0   \n",
       "1    NaN     NaN                    0     Transient   0.0   \n",
       "2    NaN     NaN                    0     Transient  75.0   \n",
       "3  304.0     NaN                    0     Transient  75.0   \n",
       "4  240.0     NaN                    0     Transient  98.0   \n",
       "\n",
       "   required_car_parking_spaces  total_of_special_requests  reservation_status  \\\n",
       "0                            0                          0           Check-Out   \n",
       "1                            0                          0           Check-Out   \n",
       "2                            0                          0           Check-Out   \n",
       "3                            0                          0           Check-Out   \n",
       "4                            0                          1           Check-Out   \n",
       "\n",
       "  reservation_status_date  \n",
       "0              2015-07-01  \n",
       "1              2015-07-01  \n",
       "2              2015-07-02  \n",
       "3              2015-07-02  \n",
       "4              2015-07-03  \n",
       "\n",
       "[5 rows x 32 columns]"
      ]
     },
     "execution_count": 2,
     "metadata": {},
     "output_type": "execute_result"
    }
   ],
   "source": [
    "df = pd.read_csv('hotel_bookings.csv')\n",
    "df.head()"
   ]
  },
  {
   "cell_type": "code",
   "execution_count": 3,
   "metadata": {},
   "outputs": [
    {
     "name": "stdout",
     "output_type": "stream",
     "text": [
      "<class 'pandas.core.frame.DataFrame'>\n",
      "RangeIndex: 119390 entries, 0 to 119389\n",
      "Data columns (total 32 columns):\n",
      " #   Column                          Non-Null Count   Dtype  \n",
      "---  ------                          --------------   -----  \n",
      " 0   hotel                           119390 non-null  object \n",
      " 1   is_canceled                     119390 non-null  int64  \n",
      " 2   lead_time                       119390 non-null  int64  \n",
      " 3   arrival_date_year               119390 non-null  int64  \n",
      " 4   arrival_date_month              119390 non-null  object \n",
      " 5   arrival_date_week_number        119390 non-null  int64  \n",
      " 6   arrival_date_day_of_month       119390 non-null  int64  \n",
      " 7   stays_in_weekend_nights         119390 non-null  int64  \n",
      " 8   stays_in_week_nights            119390 non-null  int64  \n",
      " 9   adults                          119390 non-null  int64  \n",
      " 10  children                        119386 non-null  float64\n",
      " 11  babies                          119390 non-null  int64  \n",
      " 12  meal                            119390 non-null  object \n",
      " 13  country                         118902 non-null  object \n",
      " 14  market_segment                  119390 non-null  object \n",
      " 15  distribution_channel            119390 non-null  object \n",
      " 16  is_repeated_guest               119390 non-null  int64  \n",
      " 17  previous_cancellations          119390 non-null  int64  \n",
      " 18  previous_bookings_not_canceled  119390 non-null  int64  \n",
      " 19  reserved_room_type              119390 non-null  object \n",
      " 20  assigned_room_type              119390 non-null  object \n",
      " 21  booking_changes                 119390 non-null  int64  \n",
      " 22  deposit_type                    119390 non-null  object \n",
      " 23  agent                           103050 non-null  float64\n",
      " 24  company                         6797 non-null    float64\n",
      " 25  days_in_waiting_list            119390 non-null  int64  \n",
      " 26  customer_type                   119390 non-null  object \n",
      " 27  adr                             119390 non-null  float64\n",
      " 28  required_car_parking_spaces     119390 non-null  int64  \n",
      " 29  total_of_special_requests       119390 non-null  int64  \n",
      " 30  reservation_status              119390 non-null  object \n",
      " 31  reservation_status_date         119390 non-null  object \n",
      "dtypes: float64(4), int64(16), object(12)\n",
      "memory usage: 29.1+ MB\n"
     ]
    }
   ],
   "source": [
    "df.info()"
   ]
  },
  {
   "cell_type": "markdown",
   "metadata": {},
   "source": [
    "There are many reasons people have to travel. Business, pleasure, experiencing what the world has to offer, getting away from the daily routine of life, and many others. There are also many options when travelling. Where to go, what hotel to stay in, tropical or urban, the list goes on. For this project we want to take a look at that last point. Resort hotels are often great places to stay at for all of their amenities and beach side views and luxurious locations. People often come here to get away from their daily routine for a week and relax and unwind by the beach with a drink in their hand. On the flip side, there are also plenty of city hotels that are upscale, in the city and around the hustle and bustle of daily life. This project will be predicting which hotel a customer chooses based on things like when they will arrive at the hotel, the hotel's rate, how many people in a party, how long they're staying, room types, and many other factors that travellers take into account. Let's have a look."
   ]
  },
  {
   "cell_type": "markdown",
   "metadata": {},
   "source": [
    "# Data Cleaning"
   ]
  },
  {
   "cell_type": "markdown",
   "metadata": {},
   "source": [
    "First thing's first is cleaning up the data set. We need to get rid of all those null values if we're going to have an opportunity to perform predictive modeling on our data. First up is the company column. At only 6797 non-ull values, this column is only filled up about 5% of the total length of our data set, which will make it nearly impossible to find patterns in the data and assign values to fill those missing spots. It'd be best to drop the column entirely and not worry about it."
   ]
  },
  {
   "cell_type": "code",
   "execution_count": 4,
   "metadata": {},
   "outputs": [
    {
     "data": {
      "text/plain": [
       "array([ nan, 110., 113., 270., 178., 240., 154., 144., 307., 268.,  59.,\n",
       "       204., 312., 318.,  94., 174., 274., 195., 223., 317., 281., 118.,\n",
       "        53., 286.,  12.,  47., 324., 342., 373., 371., 383.,  86.,  82.,\n",
       "       218.,  88.,  31., 397., 392., 405., 331., 367.,  20.,  83., 416.,\n",
       "        51., 395., 102.,  34.,  84., 360., 394., 457., 382., 461., 478.,\n",
       "       386., 112., 486., 421.,   9., 308., 135., 224., 504., 269., 356.,\n",
       "       498., 390., 513., 203., 263., 477., 521., 169., 515., 445., 337.,\n",
       "       251., 428., 292., 388., 130., 250., 355., 254., 543., 531., 528.,\n",
       "        62., 120.,  42.,  81., 116., 530., 103.,  39.,  16.,  92.,  61.,\n",
       "       501., 165., 291., 290.,  43., 325., 192., 108., 200., 465., 287.,\n",
       "       297., 490., 482., 207., 282., 437., 225., 329., 272.,  28.,  77.,\n",
       "       338.,  72., 246., 319., 146., 159., 380., 323., 511., 407., 278.,\n",
       "        80., 403., 399.,  14., 137., 343., 346., 347., 349., 289., 351.,\n",
       "       353.,  54.,  99., 358., 361., 362., 366., 372., 365., 277., 109.,\n",
       "       377., 379.,  22., 378., 330., 364., 401., 232., 255., 384., 167.,\n",
       "       212., 514., 391., 400., 376., 402., 396., 302., 398.,   6., 370.,\n",
       "       369., 409., 168., 104., 408., 413., 148.,  10., 333., 419., 415.,\n",
       "       424., 425., 423., 422., 435., 439., 442., 448., 443., 454., 444.,\n",
       "        52., 459., 458., 456., 460., 447., 470., 466., 484., 184., 485.,\n",
       "        32., 487., 491., 494., 193., 516., 496., 499.,  29.,  78., 520.,\n",
       "       507., 506., 512., 126.,  64., 242., 518., 523., 539., 534., 436.,\n",
       "       525., 541.,  40., 455., 410.,  45.,  38.,  49.,  48.,  67.,  68.,\n",
       "        65.,  91.,  37.,   8., 179., 209., 219., 221., 227., 153., 186.,\n",
       "       253., 202., 216., 275., 233., 280., 309., 321.,  93., 316.,  85.,\n",
       "       107., 350., 279., 334., 348., 150.,  73., 385., 418., 197., 450.,\n",
       "       452., 115.,  46.,  76.,  96., 100., 105., 101., 122.,  11., 139.,\n",
       "       142., 127., 143., 140., 149., 163., 160., 180., 238., 183., 222.,\n",
       "       185., 217., 215., 213., 237., 230., 234.,  35., 245., 158., 258.,\n",
       "       259., 260., 411., 257., 271.,  18., 106., 210., 273.,  71., 284.,\n",
       "       301., 305., 293., 264., 311., 304., 313., 288., 320., 314., 332.,\n",
       "       341., 352., 243., 368., 393., 132., 220., 412., 420., 426., 417.,\n",
       "       429., 433., 446., 357., 479., 483., 489., 229., 481., 497., 451.,\n",
       "       492.])"
      ]
     },
     "execution_count": 4,
     "metadata": {},
     "output_type": "execute_result"
    }
   ],
   "source": [
    "df['company'].unique()"
   ]
  },
  {
   "cell_type": "code",
   "execution_count": 5,
   "metadata": {},
   "outputs": [],
   "source": [
    "del df['company']"
   ]
  },
  {
   "cell_type": "code",
   "execution_count": 6,
   "metadata": {},
   "outputs": [
    {
     "name": "stdout",
     "output_type": "stream",
     "text": [
      "<class 'pandas.core.frame.DataFrame'>\n",
      "RangeIndex: 119390 entries, 0 to 119389\n",
      "Data columns (total 31 columns):\n",
      " #   Column                          Non-Null Count   Dtype  \n",
      "---  ------                          --------------   -----  \n",
      " 0   hotel                           119390 non-null  object \n",
      " 1   is_canceled                     119390 non-null  int64  \n",
      " 2   lead_time                       119390 non-null  int64  \n",
      " 3   arrival_date_year               119390 non-null  int64  \n",
      " 4   arrival_date_month              119390 non-null  object \n",
      " 5   arrival_date_week_number        119390 non-null  int64  \n",
      " 6   arrival_date_day_of_month       119390 non-null  int64  \n",
      " 7   stays_in_weekend_nights         119390 non-null  int64  \n",
      " 8   stays_in_week_nights            119390 non-null  int64  \n",
      " 9   adults                          119390 non-null  int64  \n",
      " 10  children                        119386 non-null  float64\n",
      " 11  babies                          119390 non-null  int64  \n",
      " 12  meal                            119390 non-null  object \n",
      " 13  country                         118902 non-null  object \n",
      " 14  market_segment                  119390 non-null  object \n",
      " 15  distribution_channel            119390 non-null  object \n",
      " 16  is_repeated_guest               119390 non-null  int64  \n",
      " 17  previous_cancellations          119390 non-null  int64  \n",
      " 18  previous_bookings_not_canceled  119390 non-null  int64  \n",
      " 19  reserved_room_type              119390 non-null  object \n",
      " 20  assigned_room_type              119390 non-null  object \n",
      " 21  booking_changes                 119390 non-null  int64  \n",
      " 22  deposit_type                    119390 non-null  object \n",
      " 23  agent                           103050 non-null  float64\n",
      " 24  days_in_waiting_list            119390 non-null  int64  \n",
      " 25  customer_type                   119390 non-null  object \n",
      " 26  adr                             119390 non-null  float64\n",
      " 27  required_car_parking_spaces     119390 non-null  int64  \n",
      " 28  total_of_special_requests       119390 non-null  int64  \n",
      " 29  reservation_status              119390 non-null  object \n",
      " 30  reservation_status_date         119390 non-null  object \n",
      "dtypes: float64(3), int64(16), object(12)\n",
      "memory usage: 28.2+ MB\n"
     ]
    }
   ],
   "source": [
    "df.info()"
   ]
  },
  {
   "cell_type": "markdown",
   "metadata": {},
   "source": [
    "Next is the children column. Only four missing values here, so let's take a look at the value counts that make up the column and see if there is a majority."
   ]
  },
  {
   "cell_type": "code",
   "execution_count": 7,
   "metadata": {},
   "outputs": [
    {
     "data": {
      "text/plain": [
       "0.0     110796\n",
       "1.0       4861\n",
       "2.0       3652\n",
       "3.0         76\n",
       "10.0         1\n",
       "Name: children, dtype: int64"
      ]
     },
     "execution_count": 7,
     "metadata": {},
     "output_type": "execute_result"
    }
   ],
   "source": [
    "df['children'].value_counts()"
   ]
  },
  {
   "cell_type": "markdown",
   "metadata": {},
   "source": [
    "Travellers with 0 kids travelling with them make up the vast majority of this column, we'll fill in the four missing values with 0's and move on to the next column."
   ]
  },
  {
   "cell_type": "code",
   "execution_count": 8,
   "metadata": {},
   "outputs": [],
   "source": [
    "df['children'] = df['children'].fillna(0.0)"
   ]
  },
  {
   "cell_type": "code",
   "execution_count": 9,
   "metadata": {},
   "outputs": [
    {
     "name": "stdout",
     "output_type": "stream",
     "text": [
      "<class 'pandas.core.frame.DataFrame'>\n",
      "RangeIndex: 119390 entries, 0 to 119389\n",
      "Data columns (total 31 columns):\n",
      " #   Column                          Non-Null Count   Dtype  \n",
      "---  ------                          --------------   -----  \n",
      " 0   hotel                           119390 non-null  object \n",
      " 1   is_canceled                     119390 non-null  int64  \n",
      " 2   lead_time                       119390 non-null  int64  \n",
      " 3   arrival_date_year               119390 non-null  int64  \n",
      " 4   arrival_date_month              119390 non-null  object \n",
      " 5   arrival_date_week_number        119390 non-null  int64  \n",
      " 6   arrival_date_day_of_month       119390 non-null  int64  \n",
      " 7   stays_in_weekend_nights         119390 non-null  int64  \n",
      " 8   stays_in_week_nights            119390 non-null  int64  \n",
      " 9   adults                          119390 non-null  int64  \n",
      " 10  children                        119390 non-null  float64\n",
      " 11  babies                          119390 non-null  int64  \n",
      " 12  meal                            119390 non-null  object \n",
      " 13  country                         118902 non-null  object \n",
      " 14  market_segment                  119390 non-null  object \n",
      " 15  distribution_channel            119390 non-null  object \n",
      " 16  is_repeated_guest               119390 non-null  int64  \n",
      " 17  previous_cancellations          119390 non-null  int64  \n",
      " 18  previous_bookings_not_canceled  119390 non-null  int64  \n",
      " 19  reserved_room_type              119390 non-null  object \n",
      " 20  assigned_room_type              119390 non-null  object \n",
      " 21  booking_changes                 119390 non-null  int64  \n",
      " 22  deposit_type                    119390 non-null  object \n",
      " 23  agent                           103050 non-null  float64\n",
      " 24  days_in_waiting_list            119390 non-null  int64  \n",
      " 25  customer_type                   119390 non-null  object \n",
      " 26  adr                             119390 non-null  float64\n",
      " 27  required_car_parking_spaces     119390 non-null  int64  \n",
      " 28  total_of_special_requests       119390 non-null  int64  \n",
      " 29  reservation_status              119390 non-null  object \n",
      " 30  reservation_status_date         119390 non-null  object \n",
      "dtypes: float64(3), int64(16), object(12)\n",
      "memory usage: 28.2+ MB\n"
     ]
    }
   ],
   "source": [
    "df.info()"
   ]
  },
  {
   "cell_type": "markdown",
   "metadata": {},
   "source": [
    "Next is the country column with about 400 missing values. Let's take a look at the value counts and see where people are from."
   ]
  },
  {
   "cell_type": "code",
   "execution_count": 10,
   "metadata": {},
   "outputs": [
    {
     "data": {
      "text/plain": [
       "PRT    48590\n",
       "GBR    12129\n",
       "FRA    10415\n",
       "ESP     8568\n",
       "DEU     7287\n",
       "       ...  \n",
       "SLE        1\n",
       "BDI        1\n",
       "MLI        1\n",
       "NIC        1\n",
       "CYM        1\n",
       "Name: country, Length: 177, dtype: int64"
      ]
     },
     "execution_count": 10,
     "metadata": {},
     "output_type": "execute_result"
    }
   ],
   "source": [
    "df['country'].value_counts()"
   ]
  },
  {
   "cell_type": "markdown",
   "metadata": {},
   "source": [
    "People from Portugal like to travel a lot, apparently. With a pretty wide majority being from Portugal, almost 4 times as many as the next country (Great Britain), adding ~400 more Portugese people would not put the integrity of our data at risk. We'll fill in this column with 'PRT' and move to the final missing column, the travel agent."
   ]
  },
  {
   "cell_type": "code",
   "execution_count": 11,
   "metadata": {},
   "outputs": [],
   "source": [
    "df['country'] = df['country'].fillna('PRT')"
   ]
  },
  {
   "cell_type": "markdown",
   "metadata": {},
   "source": [
    "Finally we have the travel agency that made the booking. Let's again look at the value counts of our column and see if there's a majority."
   ]
  },
  {
   "cell_type": "code",
   "execution_count": 12,
   "metadata": {},
   "outputs": [
    {
     "data": {
      "text/plain": [
       "9.0      31961\n",
       "240.0    13922\n",
       "1.0       7191\n",
       "14.0      3640\n",
       "7.0       3539\n",
       "         ...  \n",
       "213.0        1\n",
       "433.0        1\n",
       "197.0        1\n",
       "367.0        1\n",
       "337.0        1\n",
       "Name: agent, Length: 333, dtype: int64"
      ]
     },
     "execution_count": 12,
     "metadata": {},
     "output_type": "execute_result"
    }
   ],
   "source": [
    "df['agent'].value_counts()"
   ]
  },
  {
   "cell_type": "markdown",
   "metadata": {},
   "source": [
    "With this column having more than 16,000 missing values, it wouldn't make sense to fill those all in with one value and be on our way. Doing so could really skew our data and make our predictions less authentic. First let's take a look at which travel agencies made the most bookings to each type of hotel. Perhaps one agency made most or all of the bookings to one type of hotel."
   ]
  },
  {
   "cell_type": "code",
   "execution_count": 13,
   "metadata": {},
   "outputs": [
    {
     "name": "stdout",
     "output_type": "stream",
     "text": [
      "hotel                                0\n",
      "is_canceled                          0\n",
      "lead_time                            0\n",
      "arrival_date_year                    0\n",
      "arrival_date_month                   0\n",
      "arrival_date_week_number             0\n",
      "arrival_date_day_of_month            0\n",
      "stays_in_weekend_nights              0\n",
      "stays_in_week_nights                 0\n",
      "adults                               0\n",
      "children                             0\n",
      "babies                               0\n",
      "meal                                 0\n",
      "country                              0\n",
      "market_segment                       0\n",
      "distribution_channel                 0\n",
      "is_repeated_guest                    0\n",
      "previous_cancellations               0\n",
      "previous_bookings_not_canceled       0\n",
      "reserved_room_type                   0\n",
      "assigned_room_type                   0\n",
      "booking_changes                      0\n",
      "deposit_type                         0\n",
      "agent                             8131\n",
      "days_in_waiting_list                 0\n",
      "customer_type                        0\n",
      "adr                                  0\n",
      "required_car_parking_spaces          0\n",
      "total_of_special_requests            0\n",
      "reservation_status                   0\n",
      "reservation_status_date              0\n",
      "dtype: int64\n"
     ]
    }
   ],
   "source": [
    "print(df[df['hotel'] == 'City Hotel'].isnull().sum())"
   ]
  },
  {
   "cell_type": "markdown",
   "metadata": {},
   "source": [
    "For city hotels about half of our 16,000 data points are missing. Let's see if any one agency made the vast majority of those bookings."
   ]
  },
  {
   "cell_type": "code",
   "execution_count": 14,
   "metadata": {},
   "outputs": [
    {
     "name": "stdout",
     "output_type": "stream",
     "text": [
      "9.0      31955\n",
      "1.0       7137\n",
      "14.0      3640\n",
      "7.0       3539\n",
      "6.0       2683\n",
      "         ...  \n",
      "265.0        1\n",
      "247.0        1\n",
      "213.0        1\n",
      "289.0        1\n",
      "306.0        1\n",
      "Name: agent, Length: 223, dtype: int64\n"
     ]
    }
   ],
   "source": [
    "print(df[df['hotel'] == 'City Hotel']['agent'].value_counts())"
   ]
  },
  {
   "cell_type": "markdown",
   "metadata": {},
   "source": [
    "One agency made almost 5 times as many as the rest. Let's take a look at resort hotels and see if the same agency made the bookings."
   ]
  },
  {
   "cell_type": "code",
   "execution_count": 15,
   "metadata": {},
   "outputs": [
    {
     "name": "stdout",
     "output_type": "stream",
     "text": [
      "hotel                                0\n",
      "is_canceled                          0\n",
      "lead_time                            0\n",
      "arrival_date_year                    0\n",
      "arrival_date_month                   0\n",
      "arrival_date_week_number             0\n",
      "arrival_date_day_of_month            0\n",
      "stays_in_weekend_nights              0\n",
      "stays_in_week_nights                 0\n",
      "adults                               0\n",
      "children                             0\n",
      "babies                               0\n",
      "meal                                 0\n",
      "country                              0\n",
      "market_segment                       0\n",
      "distribution_channel                 0\n",
      "is_repeated_guest                    0\n",
      "previous_cancellations               0\n",
      "previous_bookings_not_canceled       0\n",
      "reserved_room_type                   0\n",
      "assigned_room_type                   0\n",
      "booking_changes                      0\n",
      "deposit_type                         0\n",
      "agent                             8209\n",
      "days_in_waiting_list                 0\n",
      "customer_type                        0\n",
      "adr                                  0\n",
      "required_car_parking_spaces          0\n",
      "total_of_special_requests            0\n",
      "reservation_status                   0\n",
      "reservation_status_date              0\n",
      "dtype: int64\n"
     ]
    }
   ],
   "source": [
    "print(df[df['hotel'] == 'Resort Hotel'].isnull().sum())"
   ]
  },
  {
   "cell_type": "code",
   "execution_count": 16,
   "metadata": {},
   "outputs": [
    {
     "name": "stdout",
     "output_type": "stream",
     "text": [
      "240.0    13905\n",
      "250.0     2869\n",
      "241.0     1721\n",
      "40.0      1002\n",
      "314.0      927\n",
      "         ...  \n",
      "159.0        1\n",
      "355.0        1\n",
      "367.0        1\n",
      "476.0        1\n",
      "303.0        1\n",
      "Name: agent, Length: 185, dtype: int64\n"
     ]
    }
   ],
   "source": [
    "print(df[df['hotel'] == 'Resort Hotel']['agent'].value_counts())"
   ]
  },
  {
   "cell_type": "markdown",
   "metadata": {},
   "source": [
    "The top agency again made about 5 times as many bookings as the rest. With about 8000 missing values for each type of hotel, filling in those missing values with the top agency for each type of hotel may skew results too much, so it would be best to drop the data points and move on with the rest of the data."
   ]
  },
  {
   "cell_type": "code",
   "execution_count": 17,
   "metadata": {},
   "outputs": [],
   "source": [
    "df = df.dropna()\n",
    "df = df.reset_index().drop('index', axis=1)"
   ]
  },
  {
   "cell_type": "code",
   "execution_count": 18,
   "metadata": {},
   "outputs": [
    {
     "name": "stdout",
     "output_type": "stream",
     "text": [
      "<class 'pandas.core.frame.DataFrame'>\n",
      "RangeIndex: 103050 entries, 0 to 103049\n",
      "Data columns (total 31 columns):\n",
      " #   Column                          Non-Null Count   Dtype  \n",
      "---  ------                          --------------   -----  \n",
      " 0   hotel                           103050 non-null  object \n",
      " 1   is_canceled                     103050 non-null  int64  \n",
      " 2   lead_time                       103050 non-null  int64  \n",
      " 3   arrival_date_year               103050 non-null  int64  \n",
      " 4   arrival_date_month              103050 non-null  object \n",
      " 5   arrival_date_week_number        103050 non-null  int64  \n",
      " 6   arrival_date_day_of_month       103050 non-null  int64  \n",
      " 7   stays_in_weekend_nights         103050 non-null  int64  \n",
      " 8   stays_in_week_nights            103050 non-null  int64  \n",
      " 9   adults                          103050 non-null  int64  \n",
      " 10  children                        103050 non-null  float64\n",
      " 11  babies                          103050 non-null  int64  \n",
      " 12  meal                            103050 non-null  object \n",
      " 13  country                         103050 non-null  object \n",
      " 14  market_segment                  103050 non-null  object \n",
      " 15  distribution_channel            103050 non-null  object \n",
      " 16  is_repeated_guest               103050 non-null  int64  \n",
      " 17  previous_cancellations          103050 non-null  int64  \n",
      " 18  previous_bookings_not_canceled  103050 non-null  int64  \n",
      " 19  reserved_room_type              103050 non-null  object \n",
      " 20  assigned_room_type              103050 non-null  object \n",
      " 21  booking_changes                 103050 non-null  int64  \n",
      " 22  deposit_type                    103050 non-null  object \n",
      " 23  agent                           103050 non-null  float64\n",
      " 24  days_in_waiting_list            103050 non-null  int64  \n",
      " 25  customer_type                   103050 non-null  object \n",
      " 26  adr                             103050 non-null  float64\n",
      " 27  required_car_parking_spaces     103050 non-null  int64  \n",
      " 28  total_of_special_requests       103050 non-null  int64  \n",
      " 29  reservation_status              103050 non-null  object \n",
      " 30  reservation_status_date         103050 non-null  object \n",
      "dtypes: float64(3), int64(16), object(12)\n",
      "memory usage: 24.4+ MB\n"
     ]
    }
   ],
   "source": [
    "df.info()"
   ]
  },
  {
   "cell_type": "markdown",
   "metadata": {},
   "source": [
    "# Data Visualization"
   ]
  },
  {
   "cell_type": "markdown",
   "metadata": {},
   "source": [
    "Now that we have a clean data set, let's take a look at the differences between the two types of hotels. As noted below, there are Resort Hotels and City Hotels. The first thing we should take a look at is what months guests arrived most frequently."
   ]
  },
  {
   "cell_type": "code",
   "execution_count": 19,
   "metadata": {},
   "outputs": [
    {
     "data": {
      "text/plain": [
       "array(['Resort Hotel', 'City Hotel'], dtype=object)"
      ]
     },
     "execution_count": 19,
     "metadata": {},
     "output_type": "execute_result"
    }
   ],
   "source": [
    "df['hotel'].unique()"
   ]
  },
  {
   "cell_type": "code",
   "execution_count": 20,
   "metadata": {},
   "outputs": [
    {
     "data": {
      "text/plain": [
       "(   Arrival Date Month  Count\n",
       " 0               April   2898\n",
       " 1              August   4359\n",
       " 2            December   1970\n",
       " 3            February   2284\n",
       " 4             January   1465\n",
       " 5                July   4041\n",
       " 6                June   2643\n",
       " 7               March   2406\n",
       " 8                 May   2881\n",
       " 9            November   1895\n",
       " 10            October   2405\n",
       " 11          September   2604,\n",
       "    Arrival Date Month  Count\n",
       " 0               April   6860\n",
       " 1              August   8323\n",
       " 2            December   3661\n",
       " 3            February   4177\n",
       " 4             January   3098\n",
       " 5                July   7563\n",
       " 6                June   7163\n",
       " 7               March   5743\n",
       " 8                 May   7208\n",
       " 9            November   3514\n",
       " 10            October   7056\n",
       " 11          September   6833)"
      ]
     },
     "execution_count": 20,
     "metadata": {},
     "output_type": "execute_result"
    }
   ],
   "source": [
    "arrival_month_list = ['hotel', 'arrival_date_month']\n",
    "arrival_df = df[arrival_month_list]\n",
    "arrival_month_resort = arrival_df[arrival_df['hotel'] == 'Resort Hotel'].groupby('arrival_date_month').count().reset_index()\n",
    "arrival_month_city = arrival_df[arrival_df['hotel'] == 'City Hotel'].groupby('arrival_date_month').count().reset_index()\n",
    "arrival_month_resort.columns = ['Arrival Date Month', 'Count']\n",
    "arrival_month_city.columns = ['Arrival Date Month', 'Count']\n",
    "arrival_month_resort, arrival_month_city"
   ]
  },
  {
   "cell_type": "code",
   "execution_count": 21,
   "metadata": {},
   "outputs": [
    {
     "data": {
      "image/png": "[encoded data removed]",
      "text/plain": [
       "<Figure size 864x648 with 1 Axes>"
      ]
     },
     "metadata": {
      "needs_background": "light"
     },
     "output_type": "display_data"
    }
   ],
   "source": [
    "plt.figure(figsize=(12,9))\n",
    "plt.title('Resort Hotel Arrivals by Month')\n",
    "plt.ylabel('Count')\n",
    "sns.barplot(x='Arrival Date Month', y='Count', data=arrival_month_resort, \n",
    "            order=['January', 'February', 'March', 'April', 'May', 'June', 'July', \n",
    "                   'August', 'September', 'October', 'November', 'December'],\n",
    "            palette='dark')\n",
    "plt.show()"
   ]
  },
  {
   "cell_type": "markdown",
   "metadata": {},
   "source": [
    "Right away we can see that resort hotels really spike during the summer months of July and August; which makes sense. For most of the world, summer is during these months and people want to find a tropical resort to vacation at to get away from their work life."
   ]
  },
  {
   "cell_type": "code",
   "execution_count": 22,
   "metadata": {},
   "outputs": [
    {
     "data": {
      "image/png": "[encoded data removed]",
      "text/plain": [
       "<Figure size 864x648 with 1 Axes>"
      ]
     },
     "metadata": {
      "needs_background": "light"
     },
     "output_type": "display_data"
    }
   ],
   "source": [
    "plt.figure(figsize=(12,9))\n",
    "plt.title('City Hotel Arrivals by Month')\n",
    "plt.ylabel('Count')\n",
    "sns.barplot(x='Arrival Date Month', y='Count', data=arrival_month_city, \n",
    "            order=['January', 'February', 'March', 'April', 'May', 'June', 'July', \n",
    "                   'August', 'September', 'October', 'November', 'December'],\n",
    "            palette='dark')\n",
    "plt.show()"
   ]
  },
  {
   "cell_type": "markdown",
   "metadata": {},
   "source": [
    "For the city hotels, we can see that the numbers have risen significantly, also there isn't as pronounced of a spike during the summer months, it seems to rise and fall more evenly than the resort hotels did. Spring/summer is the busiest time for these hotels, as people are travelling for work and want to do so in a nice enviornment. Late fall and winter isn't very conducive to comfortable travel."
   ]
  },
  {
   "cell_type": "markdown",
   "metadata": {},
   "source": [
    "Now what about where in the world these hotels are?"
   ]
  },
  {
   "cell_type": "code",
   "execution_count": 23,
   "metadata": {},
   "outputs": [],
   "source": [
    "country_df = df[['hotel', 'country']]\n",
    "country_resort_count = country_df[country_df['hotel'] == 'Resort Hotel'].groupby('country').count().reset_index()\n",
    "country_resort_count.columns = ['Country', 'Resort Hotel Count']\n",
    "country_city_count = country_df[country_df['hotel'] == 'City Hotel'].groupby('country').count().reset_index()\n",
    "country_city_count.columns = ['Country', 'City Hotel Count']"
   ]
  },
  {
   "cell_type": "markdown",
   "metadata": {},
   "source": [
    "Now that we have the number of city and resort hotels grouped by country, let's take a look at the top 10 in both data frames to see where a lot of these hotels are."
   ]
  },
  {
   "cell_type": "code",
   "execution_count": 24,
   "metadata": {},
   "outputs": [
    {
     "data": {
      "text/html": [
       "<div>\n",
       "<style scoped>\n",
       "    .dataframe tbody tr th:only-of-type {\n",
       "        vertical-align: middle;\n",
       "    }\n",
       "\n",
       "    .dataframe tbody tr th {\n",
       "        vertical-align: top;\n",
       "    }\n",
       "\n",
       "    .dataframe thead th {\n",
       "        text-align: right;\n",
       "    }\n",
       "</style>\n",
       "<table border=\"1\" class=\"dataframe\">\n",
       "  <thead>\n",
       "    <tr style=\"text-align: right;\">\n",
       "      <th></th>\n",
       "      <th>Country</th>\n",
       "      <th>Resort Hotel Count</th>\n",
       "    </tr>\n",
       "  </thead>\n",
       "  <tbody>\n",
       "    <tr>\n",
       "      <th>93</th>\n",
       "      <td>PRT</td>\n",
       "      <td>12423</td>\n",
       "    </tr>\n",
       "    <tr>\n",
       "      <th>44</th>\n",
       "      <td>GBR</td>\n",
       "      <td>5699</td>\n",
       "    </tr>\n",
       "    <tr>\n",
       "      <th>39</th>\n",
       "      <td>ESP</td>\n",
       "      <td>3664</td>\n",
       "    </tr>\n",
       "    <tr>\n",
       "      <th>54</th>\n",
       "      <td>IRL</td>\n",
       "      <td>2035</td>\n",
       "    </tr>\n",
       "    <tr>\n",
       "      <th>43</th>\n",
       "      <td>FRA</td>\n",
       "      <td>1446</td>\n",
       "    </tr>\n",
       "    <tr>\n",
       "      <th>32</th>\n",
       "      <td>DEU</td>\n",
       "      <td>1100</td>\n",
       "    </tr>\n",
       "    <tr>\n",
       "      <th>23</th>\n",
       "      <td>CN</td>\n",
       "      <td>685</td>\n",
       "    </tr>\n",
       "    <tr>\n",
       "      <th>115</th>\n",
       "      <td>USA</td>\n",
       "      <td>427</td>\n",
       "    </tr>\n",
       "    <tr>\n",
       "      <th>82</th>\n",
       "      <td>NLD</td>\n",
       "      <td>418</td>\n",
       "    </tr>\n",
       "    <tr>\n",
       "      <th>15</th>\n",
       "      <td>BRA</td>\n",
       "      <td>392</td>\n",
       "    </tr>\n",
       "  </tbody>\n",
       "</table>\n",
       "</div>"
      ],
      "text/plain": [
       "    Country  Resort Hotel Count\n",
       "93      PRT               12423\n",
       "44      GBR                5699\n",
       "39      ESP                3664\n",
       "54      IRL                2035\n",
       "43      FRA                1446\n",
       "32      DEU                1100\n",
       "23       CN                 685\n",
       "115     USA                 427\n",
       "82      NLD                 418\n",
       "15      BRA                 392"
      ]
     },
     "execution_count": 24,
     "metadata": {},
     "output_type": "execute_result"
    }
   ],
   "source": [
    "country_resort_count.sort_values('Resort Hotel Count', ascending=False).head(10)"
   ]
  },
  {
   "cell_type": "code",
   "execution_count": 25,
   "metadata": {},
   "outputs": [
    {
     "data": {
      "text/html": [
       "<div>\n",
       "<style scoped>\n",
       "    .dataframe tbody tr th:only-of-type {\n",
       "        vertical-align: middle;\n",
       "    }\n",
       "\n",
       "    .dataframe tbody tr th {\n",
       "        vertical-align: top;\n",
       "    }\n",
       "\n",
       "    .dataframe thead th {\n",
       "        text-align: right;\n",
       "    }\n",
       "</style>\n",
       "<table border=\"1\" class=\"dataframe\">\n",
       "  <thead>\n",
       "    <tr style=\"text-align: right;\">\n",
       "      <th></th>\n",
       "      <th>Country</th>\n",
       "      <th>City Hotel Count</th>\n",
       "    </tr>\n",
       "  </thead>\n",
       "  <tbody>\n",
       "    <tr>\n",
       "      <th>125</th>\n",
       "      <td>PRT</td>\n",
       "      <td>25324</td>\n",
       "    </tr>\n",
       "    <tr>\n",
       "      <th>50</th>\n",
       "      <td>FRA</td>\n",
       "      <td>8364</td>\n",
       "    </tr>\n",
       "    <tr>\n",
       "      <th>39</th>\n",
       "      <td>DEU</td>\n",
       "      <td>5898</td>\n",
       "    </tr>\n",
       "    <tr>\n",
       "      <th>53</th>\n",
       "      <td>GBR</td>\n",
       "      <td>5190</td>\n",
       "    </tr>\n",
       "    <tr>\n",
       "      <th>46</th>\n",
       "      <td>ESP</td>\n",
       "      <td>4184</td>\n",
       "    </tr>\n",
       "    <tr>\n",
       "      <th>75</th>\n",
       "      <td>ITA</td>\n",
       "      <td>3178</td>\n",
       "    </tr>\n",
       "    <tr>\n",
       "      <th>14</th>\n",
       "      <td>BEL</td>\n",
       "      <td>1793</td>\n",
       "    </tr>\n",
       "    <tr>\n",
       "      <th>23</th>\n",
       "      <td>BRA</td>\n",
       "      <td>1694</td>\n",
       "    </tr>\n",
       "    <tr>\n",
       "      <th>157</th>\n",
       "      <td>USA</td>\n",
       "      <td>1543</td>\n",
       "    </tr>\n",
       "    <tr>\n",
       "      <th>115</th>\n",
       "      <td>NLD</td>\n",
       "      <td>1541</td>\n",
       "    </tr>\n",
       "  </tbody>\n",
       "</table>\n",
       "</div>"
      ],
      "text/plain": [
       "    Country  City Hotel Count\n",
       "125     PRT             25324\n",
       "50      FRA              8364\n",
       "39      DEU              5898\n",
       "53      GBR              5190\n",
       "46      ESP              4184\n",
       "75      ITA              3178\n",
       "14      BEL              1793\n",
       "23      BRA              1694\n",
       "157     USA              1543\n",
       "115     NLD              1541"
      ]
     },
     "execution_count": 25,
     "metadata": {},
     "output_type": "execute_result"
    }
   ],
   "source": [
    "country_city_count.sort_values('City Hotel Count', ascending=False).head(10)"
   ]
  },
  {
   "cell_type": "markdown",
   "metadata": {},
   "source": [
    "Portugal (PRT) takes the top spot for both city and resort hotels. This makes sense, Portugal is a beautiful country with a long coast along the Atlantic ocean, with tons of cities dotting the coast. Lots of places for resorts to pop up, as well as inner city hotels.\n",
    "\n",
    "Looking at the resort list, Great Britain (GBR) having the second most resorts stands to reason. Being an island entirely surrounded by water, there are lots of places for resorts to pop up. It also as an about even number of city hotels, with London, Birmingham, and Manchester, there are plenty of people to check into these hotels.\n",
    "\n",
    "It's interesting to see Italy (ITA) on the top 10 of city hotels, but not on the resort hotels. I would have expected Italy to have more resorts considering it juts out into the Mediterranean sea and has lots of sea front area. It could be a geography thing, maybe not many beaches that are good to build resorts on. "
   ]
  },
  {
   "cell_type": "markdown",
   "metadata": {},
   "source": [
    "So which kind of hotel is more expensive? We can take a look at the Average Daily Rate (ADR) of each type of hotel to determine which one, on average, is more expensive."
   ]
  },
  {
   "cell_type": "code",
   "execution_count": 26,
   "metadata": {},
   "outputs": [
    {
     "name": "stdout",
     "output_type": "stream",
     "text": [
      "99.93200150701719\n"
     ]
    }
   ],
   "source": [
    "print(df[df['hotel'] == 'Resort Hotel']['adr'].mean())"
   ]
  },
  {
   "cell_type": "code",
   "execution_count": 27,
   "metadata": {},
   "outputs": [
    {
     "name": "stdout",
     "output_type": "stream",
     "text": [
      "106.71545920588414\n"
     ]
    }
   ],
   "source": [
    "print(df[df['hotel'] == 'City Hotel']['adr'].mean())"
   ]
  },
  {
   "cell_type": "markdown",
   "metadata": {},
   "source": [
    "Seems like city hotels are a bit pricier on average than resort hotels. Taking a look at the average doesn't tell us a whole lot though, let's see the distribution of the ADR to get a better idea on the spread of values between the two types of hotels."
   ]
  },
  {
   "cell_type": "code",
   "execution_count": 28,
   "metadata": {},
   "outputs": [
    {
     "data": {
      "image/png": "[encoded data removed]",
      "text/plain": [
       "<Figure size 864x432 with 2 Axes>"
      ]
     },
     "metadata": {
      "needs_background": "light"
     },
     "output_type": "display_data"
    }
   ],
   "source": [
    "s = sns.FacetGrid(df, col='hotel', height=6, sharey=False)\n",
    "s = s.map(plt.hist, 'adr')"
   ]
  },
  {
   "cell_type": "markdown",
   "metadata": {},
   "source": [
    "Seems odd that the x-axis goes all the way up to 5000+, let's see if we can find ADR values of greater than 1000 to find those outliers."
   ]
  },
  {
   "cell_type": "code",
   "execution_count": 29,
   "metadata": {},
   "outputs": [
    {
     "data": {
      "text/html": [
       "<div>\n",
       "<style scoped>\n",
       "    .dataframe tbody tr th:only-of-type {\n",
       "        vertical-align: middle;\n",
       "    }\n",
       "\n",
       "    .dataframe tbody tr th {\n",
       "        vertical-align: top;\n",
       "    }\n",
       "\n",
       "    .dataframe thead th {\n",
       "        text-align: right;\n",
       "    }\n",
       "</style>\n",
       "<table border=\"1\" class=\"dataframe\">\n",
       "  <thead>\n",
       "    <tr style=\"text-align: right;\">\n",
       "      <th></th>\n",
       "      <th>hotel</th>\n",
       "      <th>is_canceled</th>\n",
       "      <th>lead_time</th>\n",
       "      <th>arrival_date_year</th>\n",
       "      <th>arrival_date_month</th>\n",
       "      <th>arrival_date_week_number</th>\n",
       "      <th>arrival_date_day_of_month</th>\n",
       "      <th>stays_in_weekend_nights</th>\n",
       "      <th>stays_in_week_nights</th>\n",
       "      <th>adults</th>\n",
       "      <th>...</th>\n",
       "      <th>booking_changes</th>\n",
       "      <th>deposit_type</th>\n",
       "      <th>agent</th>\n",
       "      <th>days_in_waiting_list</th>\n",
       "      <th>customer_type</th>\n",
       "      <th>adr</th>\n",
       "      <th>required_car_parking_spaces</th>\n",
       "      <th>total_of_special_requests</th>\n",
       "      <th>reservation_status</th>\n",
       "      <th>reservation_status_date</th>\n",
       "    </tr>\n",
       "  </thead>\n",
       "  <tbody>\n",
       "    <tr>\n",
       "      <th>39728</th>\n",
       "      <td>City Hotel</td>\n",
       "      <td>1</td>\n",
       "      <td>35</td>\n",
       "      <td>2016</td>\n",
       "      <td>March</td>\n",
       "      <td>13</td>\n",
       "      <td>25</td>\n",
       "      <td>0</td>\n",
       "      <td>1</td>\n",
       "      <td>2</td>\n",
       "      <td>...</td>\n",
       "      <td>1</td>\n",
       "      <td>Non Refund</td>\n",
       "      <td>12.0</td>\n",
       "      <td>0</td>\n",
       "      <td>Transient</td>\n",
       "      <td>5400.0</td>\n",
       "      <td>0</td>\n",
       "      <td>0</td>\n",
       "      <td>Canceled</td>\n",
       "      <td>2016-02-19</td>\n",
       "    </tr>\n",
       "  </tbody>\n",
       "</table>\n",
       "<p>1 rows × 31 columns</p>\n",
       "</div>"
      ],
      "text/plain": [
       "            hotel  is_canceled  lead_time  arrival_date_year  \\\n",
       "39728  City Hotel            1         35               2016   \n",
       "\n",
       "      arrival_date_month  arrival_date_week_number  arrival_date_day_of_month  \\\n",
       "39728              March                        13                         25   \n",
       "\n",
       "       stays_in_weekend_nights  stays_in_week_nights  adults  ...  \\\n",
       "39728                        0                     1       2  ...   \n",
       "\n",
       "       booking_changes  deposit_type agent days_in_waiting_list customer_type  \\\n",
       "39728                1    Non Refund  12.0                    0     Transient   \n",
       "\n",
       "          adr  required_car_parking_spaces  total_of_special_requests  \\\n",
       "39728  5400.0                            0                          0   \n",
       "\n",
       "       reservation_status reservation_status_date  \n",
       "39728            Canceled              2016-02-19  \n",
       "\n",
       "[1 rows x 31 columns]"
      ]
     },
     "execution_count": 29,
     "metadata": {},
     "output_type": "execute_result"
    }
   ],
   "source": [
    "df[df['adr'] >= 1000]"
   ]
  },
  {
   "cell_type": "markdown",
   "metadata": {},
   "source": [
    "Just one. A canceled reservation with a rate of 5400 (!!!). We can drop that one without concern to see the distribution of hotel ADR's better."
   ]
  },
  {
   "cell_type": "code",
   "execution_count": 30,
   "metadata": {},
   "outputs": [],
   "source": [
    "df.drop(df[df['adr'] >= 1000].index, inplace=True)"
   ]
  },
  {
   "cell_type": "code",
   "execution_count": 31,
   "metadata": {},
   "outputs": [
    {
     "data": {
      "image/png": "[encoded data removed]",
      "text/plain": [
       "<Figure size 1008x504 with 2 Axes>"
      ]
     },
     "metadata": {
      "needs_background": "light"
     },
     "output_type": "display_data"
    }
   ],
   "source": [
    "s = sns.FacetGrid(df, col='hotel', height=7, sharey=False)\n",
    "s = s.map(plt.hist, 'adr', bins=40)"
   ]
  },
  {
   "cell_type": "markdown",
   "metadata": {},
   "source": [
    "Here we can see that the city hotel rates are just a little bit more skewed to the right than the resort hotel rates, leading to their ADR's to be generally higher. Also, resort hotel ADR's have a larger spread compared to the city hotel ADR's. Which means that the resort hotel rates will probably have a higher standard deviation than the city hotel rates."
   ]
  },
  {
   "cell_type": "code",
   "execution_count": 32,
   "metadata": {},
   "outputs": [
    {
     "name": "stdout",
     "output_type": "stream",
     "text": [
      "Resort Hotel ADR Standard Deviation: 62.16701127061136\n",
      "City Hotel ADR Standard Deviation:   38.55873590274058\n"
     ]
    }
   ],
   "source": [
    "print(f'Resort Hotel ADR Standard Deviation: {df[df.hotel == \"Resort Hotel\"].adr.std()}')\n",
    "print(f'City Hotel ADR Standard Deviation:   {df[df.hotel == \"City Hotel\"].adr.std()}')"
   ]
  },
  {
   "cell_type": "markdown",
   "metadata": {},
   "source": [
    "Yes. As seen above, the resort hotels have a larger standard deviation, which means their prices will be more varied than the city hotels. This could be for any number of reasons, including location differences between the resorts."
   ]
  },
  {
   "cell_type": "markdown",
   "metadata": {},
   "source": [
    "Another interesting thing to look at would be repeated guests between city and resort hotels. Maybe people have a high loyalty to a type of hotel, more so one than the other? Let's take a look."
   ]
  },
  {
   "cell_type": "code",
   "execution_count": 33,
   "metadata": {},
   "outputs": [
    {
     "data": {
      "text/plain": [
       "0    101604\n",
       "1      1445\n",
       "Name: is_repeated_guest, dtype: int64"
      ]
     },
     "execution_count": 33,
     "metadata": {},
     "output_type": "execute_result"
    }
   ],
   "source": [
    "df['is_repeated_guest'].value_counts()"
   ]
  },
  {
   "cell_type": "markdown",
   "metadata": {},
   "source": [
    "Wow. Only 1,400 repeat guests compared to ~102,000 non-repeats. Maybe we can take a look at how many more repeat guests there were at resort hotels compared to city hotels."
   ]
  },
  {
   "cell_type": "code",
   "execution_count": 34,
   "metadata": {},
   "outputs": [
    {
     "data": {
      "text/html": [
       "<div>\n",
       "<style scoped>\n",
       "    .dataframe tbody tr th:only-of-type {\n",
       "        vertical-align: middle;\n",
       "    }\n",
       "\n",
       "    .dataframe tbody tr th {\n",
       "        vertical-align: top;\n",
       "    }\n",
       "\n",
       "    .dataframe thead th {\n",
       "        text-align: right;\n",
       "    }\n",
       "</style>\n",
       "<table border=\"1\" class=\"dataframe\">\n",
       "  <thead>\n",
       "    <tr style=\"text-align: right;\">\n",
       "      <th></th>\n",
       "      <th>is_repeated_guest</th>\n",
       "    </tr>\n",
       "    <tr>\n",
       "      <th>hotel</th>\n",
       "      <th></th>\n",
       "    </tr>\n",
       "  </thead>\n",
       "  <tbody>\n",
       "    <tr>\n",
       "      <th>City Hotel</th>\n",
       "      <td>717</td>\n",
       "    </tr>\n",
       "    <tr>\n",
       "      <th>Resort Hotel</th>\n",
       "      <td>728</td>\n",
       "    </tr>\n",
       "  </tbody>\n",
       "</table>\n",
       "</div>"
      ],
      "text/plain": [
       "              is_repeated_guest\n",
       "hotel                          \n",
       "City Hotel                  717\n",
       "Resort Hotel                728"
      ]
     },
     "execution_count": 34,
     "metadata": {},
     "output_type": "execute_result"
    }
   ],
   "source": [
    "repeat_df = df[['hotel', 'is_repeated_guest']]\n",
    "repeat_df = repeat_df[repeat_df['is_repeated_guest'] == 1]\n",
    "repeat_hotel_count = repeat_df.groupby('hotel').count()\n",
    "repeat_hotel_count"
   ]
  },
  {
   "cell_type": "markdown",
   "metadata": {},
   "source": [
    "About an even split. The hotel type apparently doesn't matter on bringing people back for a second stay at a specific hotel."
   ]
  },
  {
   "cell_type": "markdown",
   "metadata": {},
   "source": [
    "Last thing for looking at the splits between the two hotels is the number of cancellations between the two. Maybe there's a discernable pattern here that we can find on which type of hotel is more likely to have canceled bookings."
   ]
  },
  {
   "cell_type": "code",
   "execution_count": 35,
   "metadata": {},
   "outputs": [
    {
     "data": {
      "text/html": [
       "<div>\n",
       "<style scoped>\n",
       "    .dataframe tbody tr th:only-of-type {\n",
       "        vertical-align: middle;\n",
       "    }\n",
       "\n",
       "    .dataframe tbody tr th {\n",
       "        vertical-align: top;\n",
       "    }\n",
       "\n",
       "    .dataframe thead th {\n",
       "        text-align: right;\n",
       "    }\n",
       "</style>\n",
       "<table border=\"1\" class=\"dataframe\">\n",
       "  <thead>\n",
       "    <tr style=\"text-align: right;\">\n",
       "      <th></th>\n",
       "      <th>is_canceled</th>\n",
       "    </tr>\n",
       "    <tr>\n",
       "      <th>hotel</th>\n",
       "      <th></th>\n",
       "    </tr>\n",
       "  </thead>\n",
       "  <tbody>\n",
       "    <tr>\n",
       "      <th>City Hotel</th>\n",
       "      <td>30492</td>\n",
       "    </tr>\n",
       "    <tr>\n",
       "      <th>Resort Hotel</th>\n",
       "      <td>9701</td>\n",
       "    </tr>\n",
       "  </tbody>\n",
       "</table>\n",
       "</div>"
      ],
      "text/plain": [
       "              is_canceled\n",
       "hotel                    \n",
       "City Hotel          30492\n",
       "Resort Hotel         9701"
      ]
     },
     "execution_count": 35,
     "metadata": {},
     "output_type": "execute_result"
    }
   ],
   "source": [
    "cancel_df = df[['hotel', 'is_canceled']]\n",
    "cancel_df = cancel_df[cancel_df['is_canceled'] == 1]\n",
    "cancel_hotel_count = cancel_df.groupby('hotel').count()\n",
    "cancel_hotel_count"
   ]
  },
  {
   "cell_type": "markdown",
   "metadata": {},
   "source": [
    "Interesting. Lots of canceled bookings for city hotels. Let's see those numbers as a percentage of the totals from our original data set to see which is a more significant loss."
   ]
  },
  {
   "cell_type": "code",
   "execution_count": 36,
   "metadata": {},
   "outputs": [
    {
     "data": {
      "text/plain": [
       "{'City Hotel': 42.83, 'Resort Hotel': 30.46}"
      ]
     },
     "execution_count": 36,
     "metadata": {},
     "output_type": "execute_result"
    }
   ],
   "source": [
    "cancel_dict = {'City Hotel': round(cancel_hotel_count['is_canceled'][0] / df[df['hotel'] == 'City Hotel'].count()[0] * 100, 2),\n",
    "               'Resort Hotel': round(cancel_hotel_count['is_canceled'][1] / df[df['hotel'] == 'Resort Hotel'].count()[0] * 100, 2)}\n",
    "cancel_dict"
   ]
  },
  {
   "cell_type": "code",
   "execution_count": 37,
   "metadata": {},
   "outputs": [
    {
     "data": {
      "text/html": [
       "<div>\n",
       "<style scoped>\n",
       "    .dataframe tbody tr th:only-of-type {\n",
       "        vertical-align: middle;\n",
       "    }\n",
       "\n",
       "    .dataframe tbody tr th {\n",
       "        vertical-align: top;\n",
       "    }\n",
       "\n",
       "    .dataframe thead th {\n",
       "        text-align: right;\n",
       "    }\n",
       "</style>\n",
       "<table border=\"1\" class=\"dataframe\">\n",
       "  <thead>\n",
       "    <tr style=\"text-align: right;\">\n",
       "      <th></th>\n",
       "      <th>is_canceled_perc</th>\n",
       "    </tr>\n",
       "    <tr>\n",
       "      <th>hotel</th>\n",
       "      <th></th>\n",
       "    </tr>\n",
       "  </thead>\n",
       "  <tbody>\n",
       "    <tr>\n",
       "      <th>City Hotel</th>\n",
       "      <td>42.83</td>\n",
       "    </tr>\n",
       "    <tr>\n",
       "      <th>Resort Hotel</th>\n",
       "      <td>30.46</td>\n",
       "    </tr>\n",
       "  </tbody>\n",
       "</table>\n",
       "</div>"
      ],
      "text/plain": [
       "              is_canceled_perc\n",
       "hotel                         \n",
       "City Hotel               42.83\n",
       "Resort Hotel             30.46"
      ]
     },
     "execution_count": 37,
     "metadata": {},
     "output_type": "execute_result"
    }
   ],
   "source": [
    "cancel_hotel_perc = pd.DataFrame(cancel_dict, index=['is_canceled_perc'])\n",
    "cancel_hotel_perc = cancel_hotel_perc.transpose()\n",
    "cancel_hotel_perc.index.name = 'hotel'\n",
    "cancel_hotel_perc"
   ]
  },
  {
   "cell_type": "markdown",
   "metadata": {},
   "source": [
    "So city hotels being canceled as often as they are is still taking a larger percentage out of the total bookings, though the resort hotel cancelations are also taking a large part out of the total bookings for this hotel type. Very interesting."
   ]
  },
  {
   "cell_type": "markdown",
   "metadata": {},
   "source": [
    "# Predictive Modeling"
   ]
  },
  {
   "cell_type": "markdown",
   "metadata": {},
   "source": [
    "Here we'll get into some predictive modeling on what kind of hotel a person is staying at based upon the factors seen above, as well as all the ones we didn't get into. First we need to make the modeling data set out of the columns we have. Let's take a look."
   ]
  },
  {
   "cell_type": "code",
   "execution_count": 38,
   "metadata": {},
   "outputs": [
    {
     "name": "stdout",
     "output_type": "stream",
     "text": [
      "<class 'pandas.core.frame.DataFrame'>\n",
      "Int64Index: 103049 entries, 0 to 103049\n",
      "Data columns (total 31 columns):\n",
      " #   Column                          Non-Null Count   Dtype  \n",
      "---  ------                          --------------   -----  \n",
      " 0   hotel                           103049 non-null  object \n",
      " 1   is_canceled                     103049 non-null  int64  \n",
      " 2   lead_time                       103049 non-null  int64  \n",
      " 3   arrival_date_year               103049 non-null  int64  \n",
      " 4   arrival_date_month              103049 non-null  object \n",
      " 5   arrival_date_week_number        103049 non-null  int64  \n",
      " 6   arrival_date_day_of_month       103049 non-null  int64  \n",
      " 7   stays_in_weekend_nights         103049 non-null  int64  \n",
      " 8   stays_in_week_nights            103049 non-null  int64  \n",
      " 9   adults                          103049 non-null  int64  \n",
      " 10  children                        103049 non-null  float64\n",
      " 11  babies                          103049 non-null  int64  \n",
      " 12  meal                            103049 non-null  object \n",
      " 13  country                         103049 non-null  object \n",
      " 14  market_segment                  103049 non-null  object \n",
      " 15  distribution_channel            103049 non-null  object \n",
      " 16  is_repeated_guest               103049 non-null  int64  \n",
      " 17  previous_cancellations          103049 non-null  int64  \n",
      " 18  previous_bookings_not_canceled  103049 non-null  int64  \n",
      " 19  reserved_room_type              103049 non-null  object \n",
      " 20  assigned_room_type              103049 non-null  object \n",
      " 21  booking_changes                 103049 non-null  int64  \n",
      " 22  deposit_type                    103049 non-null  object \n",
      " 23  agent                           103049 non-null  float64\n",
      " 24  days_in_waiting_list            103049 non-null  int64  \n",
      " 25  customer_type                   103049 non-null  object \n",
      " 26  adr                             103049 non-null  float64\n",
      " 27  required_car_parking_spaces     103049 non-null  int64  \n",
      " 28  total_of_special_requests       103049 non-null  int64  \n",
      " 29  reservation_status              103049 non-null  object \n",
      " 30  reservation_status_date         103049 non-null  object \n",
      "dtypes: float64(3), int64(16), object(12)\n",
      "memory usage: 25.2+ MB\n"
     ]
    }
   ],
   "source": [
    "df.info()"
   ]
  },
  {
   "cell_type": "markdown",
   "metadata": {},
   "source": [
    "Right away we can drop reservation status and reservation status date, those aren't important in determining the hotel type and would only serve as noise in the data set."
   ]
  },
  {
   "cell_type": "code",
   "execution_count": 39,
   "metadata": {},
   "outputs": [],
   "source": [
    "modeling_df = df.drop(['reservation_status', 'reservation_status_date'], axis=1)"
   ]
  },
  {
   "cell_type": "markdown",
   "metadata": {},
   "source": [
    "For most of the rest of the columns, we can use dummy variables for them, and end up with a data set that's not too large for our modeling. Let's get some dummy variables in our data set and see how many columns our data set has."
   ]
  },
  {
   "cell_type": "code",
   "execution_count": 40,
   "metadata": {},
   "outputs": [],
   "source": [
    "modeling_df = pd.get_dummies(modeling_df, columns=['arrival_date_month', 'meal', 'country', 'market_segment',\n",
    "                                                   'distribution_channel', 'reserved_room_type', 'assigned_room_type',\n",
    "                                                   'deposit_type', 'customer_type'])"
   ]
  },
  {
   "cell_type": "code",
   "execution_count": 41,
   "metadata": {},
   "outputs": [
    {
     "name": "stdout",
     "output_type": "stream",
     "text": [
      "<class 'pandas.core.frame.DataFrame'>\n",
      "Int64Index: 103049 entries, 0 to 103049\n",
      "Columns: 248 entries, hotel to customer_type_Transient-Party\n",
      "dtypes: float64(3), int64(16), object(1), uint8(228)\n",
      "memory usage: 38.9+ MB\n"
     ]
    }
   ],
   "source": [
    "modeling_df.info()"
   ]
  },
  {
   "cell_type": "markdown",
   "metadata": {},
   "source": [
    "248 columns. That's a lot. Though most of those are all the different countries that people are from. Let's do some modeling on this data set by running a base XGBoost model. First however, let's see what kind of clasification problem we have here."
   ]
  },
  {
   "cell_type": "code",
   "execution_count": 42,
   "metadata": {},
   "outputs": [
    {
     "data": {
      "text/plain": [
       "City Hotel      71198\n",
       "Resort Hotel    31851\n",
       "Name: hotel, dtype: int64"
      ]
     },
     "execution_count": 42,
     "metadata": {},
     "output_type": "execute_result"
    }
   ],
   "source": [
    "modeling_df['hotel'].value_counts()"
   ]
  },
  {
   "cell_type": "markdown",
   "metadata": {},
   "source": [
    "An imbalanced classification problem, at about 2:1 majority class to minority class. This could mean we will need to do some resampling in the future to perhaps achieve some better results. Let's start off with a base logistic regression model to get a good baseline on our predictive power."
   ]
  },
  {
   "cell_type": "code",
   "execution_count": 43,
   "metadata": {},
   "outputs": [],
   "source": [
    "X = modeling_df.drop('hotel', axis=1)\n",
    "y = modeling_df['hotel']\n",
    "y = y.map(lambda x: 1 if x == 'City Hotel' else 0)\n",
    "\n",
    "X_train, X_test, y_train, y_test = train_test_split(X, y, stratify=y, random_state=11)"
   ]
  },
  {
   "cell_type": "code",
   "execution_count": 44,
   "metadata": {},
   "outputs": [
    {
     "data": {
      "text/plain": [
       "(0.9557746551768755, 0.956099833093972)"
      ]
     },
     "execution_count": 44,
     "metadata": {},
     "output_type": "execute_result"
    }
   ],
   "source": [
    "logit = LogisticRegression(max_iter=10000, random_state=11)\n",
    "logit.fit(X_train, y_train)\n",
    "logit.score(X_train, y_train), logit.score(X_test, y_test)"
   ]
  },
  {
   "cell_type": "markdown",
   "metadata": {},
   "source": [
    "Pretty good score right off the bat, let's see what the coefficients look like and if there are any variables really taking over."
   ]
  },
  {
   "cell_type": "code",
   "execution_count": 45,
   "metadata": {},
   "outputs": [
    {
     "data": {
      "text/html": [
       "<div>\n",
       "<style scoped>\n",
       "    .dataframe tbody tr th:only-of-type {\n",
       "        vertical-align: middle;\n",
       "    }\n",
       "\n",
       "    .dataframe tbody tr th {\n",
       "        vertical-align: top;\n",
       "    }\n",
       "\n",
       "    .dataframe thead th {\n",
       "        text-align: right;\n",
       "    }\n",
       "</style>\n",
       "<table border=\"1\" class=\"dataframe\">\n",
       "  <thead>\n",
       "    <tr style=\"text-align: right;\">\n",
       "      <th></th>\n",
       "      <th>Coefficient</th>\n",
       "    </tr>\n",
       "  </thead>\n",
       "  <tbody>\n",
       "    <tr>\n",
       "      <th>meal_SC</th>\n",
       "      <td>7.949167</td>\n",
       "    </tr>\n",
       "    <tr>\n",
       "      <th>assigned_room_type_B</th>\n",
       "      <td>2.509540</td>\n",
       "    </tr>\n",
       "    <tr>\n",
       "      <th>meal_BB</th>\n",
       "      <td>2.311531</td>\n",
       "    </tr>\n",
       "    <tr>\n",
       "      <th>assigned_room_type_K</th>\n",
       "      <td>2.164373</td>\n",
       "    </tr>\n",
       "    <tr>\n",
       "      <th>reserved_room_type_B</th>\n",
       "      <td>1.813894</td>\n",
       "    </tr>\n",
       "    <tr>\n",
       "      <th>distribution_channel_GDS</th>\n",
       "      <td>1.682114</td>\n",
       "    </tr>\n",
       "    <tr>\n",
       "      <th>customer_type_Transient-Party</th>\n",
       "      <td>1.593422</td>\n",
       "    </tr>\n",
       "    <tr>\n",
       "      <th>country_AGO</th>\n",
       "      <td>1.587626</td>\n",
       "    </tr>\n",
       "    <tr>\n",
       "      <th>assigned_room_type_A</th>\n",
       "      <td>1.533970</td>\n",
       "    </tr>\n",
       "    <tr>\n",
       "      <th>deposit_type_Non Refund</th>\n",
       "      <td>1.130342</td>\n",
       "    </tr>\n",
       "  </tbody>\n",
       "</table>\n",
       "</div>"
      ],
      "text/plain": [
       "                               Coefficient\n",
       "meal_SC                           7.949167\n",
       "assigned_room_type_B              2.509540\n",
       "meal_BB                           2.311531\n",
       "assigned_room_type_K              2.164373\n",
       "reserved_room_type_B              1.813894\n",
       "distribution_channel_GDS          1.682114\n",
       "customer_type_Transient-Party     1.593422\n",
       "country_AGO                       1.587626\n",
       "assigned_room_type_A              1.533970\n",
       "deposit_type_Non Refund           1.130342"
      ]
     },
     "execution_count": 45,
     "metadata": {},
     "output_type": "execute_result"
    }
   ],
   "source": [
    "coef_df = pd.DataFrame(logit.coef_, columns=X.columns, index=['Coefficient']).transpose().sort_values('Coefficient', ascending=False)\n",
    "coef_df.head(10)"
   ]
  },
  {
   "cell_type": "code",
   "execution_count": 46,
   "metadata": {},
   "outputs": [
    {
     "data": {
      "text/html": [
       "<div>\n",
       "<style scoped>\n",
       "    .dataframe tbody tr th:only-of-type {\n",
       "        vertical-align: middle;\n",
       "    }\n",
       "\n",
       "    .dataframe tbody tr th {\n",
       "        vertical-align: top;\n",
       "    }\n",
       "\n",
       "    .dataframe thead th {\n",
       "        text-align: right;\n",
       "    }\n",
       "</style>\n",
       "<table border=\"1\" class=\"dataframe\">\n",
       "  <thead>\n",
       "    <tr style=\"text-align: right;\">\n",
       "      <th></th>\n",
       "      <th>Coefficient</th>\n",
       "    </tr>\n",
       "  </thead>\n",
       "  <tbody>\n",
       "    <tr>\n",
       "      <th>reserved_room_type_C</th>\n",
       "      <td>-1.221961</td>\n",
       "    </tr>\n",
       "    <tr>\n",
       "      <th>assigned_room_type_I</th>\n",
       "      <td>-1.284394</td>\n",
       "    </tr>\n",
       "    <tr>\n",
       "      <th>reserved_room_type_H</th>\n",
       "      <td>-1.452743</td>\n",
       "    </tr>\n",
       "    <tr>\n",
       "      <th>assigned_room_type_H</th>\n",
       "      <td>-1.593350</td>\n",
       "    </tr>\n",
       "    <tr>\n",
       "      <th>required_car_parking_spaces</th>\n",
       "      <td>-1.708613</td>\n",
       "    </tr>\n",
       "    <tr>\n",
       "      <th>country_IRL</th>\n",
       "      <td>-2.047598</td>\n",
       "    </tr>\n",
       "    <tr>\n",
       "      <th>assigned_room_type_C</th>\n",
       "      <td>-2.189705</td>\n",
       "    </tr>\n",
       "    <tr>\n",
       "      <th>country_CN</th>\n",
       "      <td>-2.296739</td>\n",
       "    </tr>\n",
       "    <tr>\n",
       "      <th>meal_Undefined</th>\n",
       "      <td>-4.563201</td>\n",
       "    </tr>\n",
       "    <tr>\n",
       "      <th>meal_FB</th>\n",
       "      <td>-5.565248</td>\n",
       "    </tr>\n",
       "  </tbody>\n",
       "</table>\n",
       "</div>"
      ],
      "text/plain": [
       "                             Coefficient\n",
       "reserved_room_type_C           -1.221961\n",
       "assigned_room_type_I           -1.284394\n",
       "reserved_room_type_H           -1.452743\n",
       "assigned_room_type_H           -1.593350\n",
       "required_car_parking_spaces    -1.708613\n",
       "country_IRL                    -2.047598\n",
       "assigned_room_type_C           -2.189705\n",
       "country_CN                     -2.296739\n",
       "meal_Undefined                 -4.563201\n",
       "meal_FB                        -5.565248"
      ]
     },
     "execution_count": 46,
     "metadata": {},
     "output_type": "execute_result"
    }
   ],
   "source": [
    "coef_df.tail(10)"
   ]
  },
  {
   "cell_type": "markdown",
   "metadata": {},
   "source": [
    "Some interesting results here. Meal types seem to be very important both ways. Assigned room type also seems to be pretty important in determining which hotel the model predicts. Let's make some predictions then take a look at some other metrics to see how our model is doing."
   ]
  },
  {
   "cell_type": "code",
   "execution_count": 47,
   "metadata": {},
   "outputs": [],
   "source": [
    "pred = logit.predict(X_test)"
   ]
  },
  {
   "cell_type": "code",
   "execution_count": 48,
   "metadata": {},
   "outputs": [
    {
     "name": "stdout",
     "output_type": "stream",
     "text": [
      "Base Logistic Regression Test Accuracy: 95.61%\n",
      "Base Logistic Regression Classification Report\n",
      "              precision    recall  f1-score   support\n",
      "\n",
      "           0       0.93      0.93      0.93      7963\n",
      "           1       0.97      0.97      0.97     17800\n",
      "\n",
      "    accuracy                           0.96     25763\n",
      "   macro avg       0.95      0.95      0.95     25763\n",
      "weighted avg       0.96      0.96      0.96     25763\n",
      "\n",
      "\n",
      "\n",
      "Base Logistic Regression MCC Score: 0.8970227659957261\n"
     ]
    },
    {
     "data": {
      "image/png": "[encoded data removed]",
      "text/plain": [
       "<Figure size 864x648 with 1 Axes>"
      ]
     },
     "metadata": {
      "needs_background": "light"
     },
     "output_type": "display_data"
    },
    {
     "name": "stdout",
     "output_type": "stream",
     "text": [
      "Base Logistic Regression AUC Score: 0.9933792329130606\n"
     ]
    }
   ],
   "source": [
    "print(f'Base Logistic Regression Test Accuracy: {round(accuracy_score(y_test, pred) * 100, 2)}%')\n",
    "print(f'Base Logistic Regression Classification Report')\n",
    "print(classification_report(y_test, pred))\n",
    "print('\\n')\n",
    "print(f'Base Logistic Regression MCC Score: {matthews_corrcoef(y_test, pred)}')\n",
    "\n",
    "probs = logit.predict_proba(X_test)\n",
    "probs = probs[:, 1]\n",
    "\n",
    "logit_precision, logit_recall, _ = precision_recall_curve(y_test, probs)\n",
    "\n",
    "no_skill = len(y_test[y_test == 1]) / len(y_test)\n",
    "plt.figure(figsize=(12,9))\n",
    "plt.plot([0, 1], [no_skill, no_skill], linestyle='--', label='No Skill')\n",
    "plt.plot(logit_recall, logit_precision, marker='.', label='Logistic Regression')\n",
    "plt.title('Precision Recall Curve for a Base Logistic Regression')\n",
    "plt.xlabel('Recall')\n",
    "plt.ylabel('Precision')\n",
    "plt.legend()\n",
    "plt.show()\n",
    "\n",
    "print(f'Base Logistic Regression AUC Score: {auc(logit_recall, logit_precision)}')"
   ]
  },
  {
   "cell_type": "markdown",
   "metadata": {},
   "source": [
    "Some interesting results here. Meal types seem to be very important both ways. Assigned room type also seems to be pretty important in determining which hotel the model predicts. I don't see many countries, however. Out of the 174 different countries in this data set, only 4 made it to the top coefficients. Perhaps introducing a lot of noise into the data set. Let's drop the country column and run this model again, and we'll see how the logistic regression score and coefficients change."
   ]
  },
  {
   "cell_type": "code",
   "execution_count": 49,
   "metadata": {},
   "outputs": [],
   "source": [
    "modeling_df = df.drop(['reservation_status', 'reservation_status_date', 'country'], axis=1)\n",
    "modeling_df = pd.get_dummies(modeling_df, columns=['arrival_date_month', 'meal', 'market_segment',\n",
    "                                                   'distribution_channel', 'reserved_room_type', 'assigned_room_type',\n",
    "                                                   'deposit_type', 'customer_type'])"
   ]
  },
  {
   "cell_type": "code",
   "execution_count": 50,
   "metadata": {},
   "outputs": [
    {
     "name": "stdout",
     "output_type": "stream",
     "text": [
      "<class 'pandas.core.frame.DataFrame'>\n",
      "Int64Index: 103049 entries, 0 to 103049\n",
      "Data columns (total 74 columns):\n",
      " #   Column                          Non-Null Count   Dtype  \n",
      "---  ------                          --------------   -----  \n",
      " 0   hotel                           103049 non-null  object \n",
      " 1   is_canceled                     103049 non-null  int64  \n",
      " 2   lead_time                       103049 non-null  int64  \n",
      " 3   arrival_date_year               103049 non-null  int64  \n",
      " 4   arrival_date_week_number        103049 non-null  int64  \n",
      " 5   arrival_date_day_of_month       103049 non-null  int64  \n",
      " 6   stays_in_weekend_nights         103049 non-null  int64  \n",
      " 7   stays_in_week_nights            103049 non-null  int64  \n",
      " 8   adults                          103049 non-null  int64  \n",
      " 9   children                        103049 non-null  float64\n",
      " 10  babies                          103049 non-null  int64  \n",
      " 11  is_repeated_guest               103049 non-null  int64  \n",
      " 12  previous_cancellations          103049 non-null  int64  \n",
      " 13  previous_bookings_not_canceled  103049 non-null  int64  \n",
      " 14  booking_changes                 103049 non-null  int64  \n",
      " 15  agent                           103049 non-null  float64\n",
      " 16  days_in_waiting_list            103049 non-null  int64  \n",
      " 17  adr                             103049 non-null  float64\n",
      " 18  required_car_parking_spaces     103049 non-null  int64  \n",
      " 19  total_of_special_requests       103049 non-null  int64  \n",
      " 20  arrival_date_month_April        103049 non-null  uint8  \n",
      " 21  arrival_date_month_August       103049 non-null  uint8  \n",
      " 22  arrival_date_month_December     103049 non-null  uint8  \n",
      " 23  arrival_date_month_February     103049 non-null  uint8  \n",
      " 24  arrival_date_month_January      103049 non-null  uint8  \n",
      " 25  arrival_date_month_July         103049 non-null  uint8  \n",
      " 26  arrival_date_month_June         103049 non-null  uint8  \n",
      " 27  arrival_date_month_March        103049 non-null  uint8  \n",
      " 28  arrival_date_month_May          103049 non-null  uint8  \n",
      " 29  arrival_date_month_November     103049 non-null  uint8  \n",
      " 30  arrival_date_month_October      103049 non-null  uint8  \n",
      " 31  arrival_date_month_September    103049 non-null  uint8  \n",
      " 32  meal_BB                         103049 non-null  uint8  \n",
      " 33  meal_FB                         103049 non-null  uint8  \n",
      " 34  meal_HB                         103049 non-null  uint8  \n",
      " 35  meal_SC                         103049 non-null  uint8  \n",
      " 36  meal_Undefined                  103049 non-null  uint8  \n",
      " 37  market_segment_Aviation         103049 non-null  uint8  \n",
      " 38  market_segment_Complementary    103049 non-null  uint8  \n",
      " 39  market_segment_Corporate        103049 non-null  uint8  \n",
      " 40  market_segment_Direct           103049 non-null  uint8  \n",
      " 41  market_segment_Groups           103049 non-null  uint8  \n",
      " 42  market_segment_Offline TA/TO    103049 non-null  uint8  \n",
      " 43  market_segment_Online TA        103049 non-null  uint8  \n",
      " 44  distribution_channel_Corporate  103049 non-null  uint8  \n",
      " 45  distribution_channel_Direct     103049 non-null  uint8  \n",
      " 46  distribution_channel_GDS        103049 non-null  uint8  \n",
      " 47  distribution_channel_TA/TO      103049 non-null  uint8  \n",
      " 48  distribution_channel_Undefined  103049 non-null  uint8  \n",
      " 49  reserved_room_type_A            103049 non-null  uint8  \n",
      " 50  reserved_room_type_B            103049 non-null  uint8  \n",
      " 51  reserved_room_type_C            103049 non-null  uint8  \n",
      " 52  reserved_room_type_D            103049 non-null  uint8  \n",
      " 53  reserved_room_type_E            103049 non-null  uint8  \n",
      " 54  reserved_room_type_F            103049 non-null  uint8  \n",
      " 55  reserved_room_type_G            103049 non-null  uint8  \n",
      " 56  reserved_room_type_H            103049 non-null  uint8  \n",
      " 57  assigned_room_type_A            103049 non-null  uint8  \n",
      " 58  assigned_room_type_B            103049 non-null  uint8  \n",
      " 59  assigned_room_type_C            103049 non-null  uint8  \n",
      " 60  assigned_room_type_D            103049 non-null  uint8  \n",
      " 61  assigned_room_type_E            103049 non-null  uint8  \n",
      " 62  assigned_room_type_F            103049 non-null  uint8  \n",
      " 63  assigned_room_type_G            103049 non-null  uint8  \n",
      " 64  assigned_room_type_H            103049 non-null  uint8  \n",
      " 65  assigned_room_type_I            103049 non-null  uint8  \n",
      " 66  assigned_room_type_K            103049 non-null  uint8  \n",
      " 67  deposit_type_No Deposit         103049 non-null  uint8  \n",
      " 68  deposit_type_Non Refund         103049 non-null  uint8  \n",
      " 69  deposit_type_Refundable         103049 non-null  uint8  \n",
      " 70  customer_type_Contract          103049 non-null  uint8  \n",
      " 71  customer_type_Group             103049 non-null  uint8  \n",
      " 72  customer_type_Transient         103049 non-null  uint8  \n",
      " 73  customer_type_Transient-Party   103049 non-null  uint8  \n",
      "dtypes: float64(3), int64(16), object(1), uint8(54)\n",
      "memory usage: 21.8+ MB\n"
     ]
    }
   ],
   "source": [
    "modeling_df.info()"
   ]
  },
  {
   "cell_type": "markdown",
   "metadata": {},
   "source": [
    "From 248 to 74 columns. A much more compact data set that should take out a lot of the noise in our model."
   ]
  },
  {
   "cell_type": "code",
   "execution_count": 51,
   "metadata": {},
   "outputs": [],
   "source": [
    "X = modeling_df.drop('hotel', axis=1)\n",
    "y = modeling_df['hotel']\n",
    "y = y.map(lambda x: 1 if x == 'City Hotel' else 0)\n",
    "\n",
    "X_train, X_test, y_train, y_test = train_test_split(X, y, stratify=y, random_state=11)"
   ]
  },
  {
   "cell_type": "code",
   "execution_count": 52,
   "metadata": {},
   "outputs": [
    {
     "data": {
      "text/plain": [
       "(0.9540278963848563, 0.9545860342351434)"
      ]
     },
     "execution_count": 52,
     "metadata": {},
     "output_type": "execute_result"
    }
   ],
   "source": [
    "logit = LogisticRegression(max_iter=10000, random_state=11)\n",
    "logit.fit(X_train, y_train)\n",
    "logit.score(X_train, y_train), logit.score(X_test, y_test)"
   ]
  },
  {
   "cell_type": "markdown",
   "metadata": {},
   "source": [
    "Similar score to the previous model. Perhaps even a bit worse. Let's take a look at the coefficients and see how those changed."
   ]
  },
  {
   "cell_type": "code",
   "execution_count": 53,
   "metadata": {},
   "outputs": [
    {
     "data": {
      "text/html": [
       "<div>\n",
       "<style scoped>\n",
       "    .dataframe tbody tr th:only-of-type {\n",
       "        vertical-align: middle;\n",
       "    }\n",
       "\n",
       "    .dataframe tbody tr th {\n",
       "        vertical-align: top;\n",
       "    }\n",
       "\n",
       "    .dataframe thead th {\n",
       "        text-align: right;\n",
       "    }\n",
       "</style>\n",
       "<table border=\"1\" class=\"dataframe\">\n",
       "  <thead>\n",
       "    <tr style=\"text-align: right;\">\n",
       "      <th></th>\n",
       "      <th>Coefficient</th>\n",
       "    </tr>\n",
       "  </thead>\n",
       "  <tbody>\n",
       "    <tr>\n",
       "      <th>meal_SC</th>\n",
       "      <td>6.563745</td>\n",
       "    </tr>\n",
       "    <tr>\n",
       "      <th>meal_BB</th>\n",
       "      <td>2.603074</td>\n",
       "    </tr>\n",
       "    <tr>\n",
       "      <th>assigned_room_type_B</th>\n",
       "      <td>2.354027</td>\n",
       "    </tr>\n",
       "    <tr>\n",
       "      <th>customer_type_Transient-Party</th>\n",
       "      <td>1.675911</td>\n",
       "    </tr>\n",
       "    <tr>\n",
       "      <th>assigned_room_type_K</th>\n",
       "      <td>1.642491</td>\n",
       "    </tr>\n",
       "    <tr>\n",
       "      <th>reserved_room_type_B</th>\n",
       "      <td>1.575131</td>\n",
       "    </tr>\n",
       "    <tr>\n",
       "      <th>assigned_room_type_A</th>\n",
       "      <td>1.543860</td>\n",
       "    </tr>\n",
       "    <tr>\n",
       "      <th>distribution_channel_GDS</th>\n",
       "      <td>1.366664</td>\n",
       "    </tr>\n",
       "    <tr>\n",
       "      <th>deposit_type_Non Refund</th>\n",
       "      <td>1.228474</td>\n",
       "    </tr>\n",
       "    <tr>\n",
       "      <th>arrival_date_month_January</th>\n",
       "      <td>1.029008</td>\n",
       "    </tr>\n",
       "  </tbody>\n",
       "</table>\n",
       "</div>"
      ],
      "text/plain": [
       "                               Coefficient\n",
       "meal_SC                           6.563745\n",
       "meal_BB                           2.603074\n",
       "assigned_room_type_B              2.354027\n",
       "customer_type_Transient-Party     1.675911\n",
       "assigned_room_type_K              1.642491\n",
       "reserved_room_type_B              1.575131\n",
       "assigned_room_type_A              1.543860\n",
       "distribution_channel_GDS          1.366664\n",
       "deposit_type_Non Refund           1.228474\n",
       "arrival_date_month_January        1.029008"
      ]
     },
     "execution_count": 53,
     "metadata": {},
     "output_type": "execute_result"
    }
   ],
   "source": [
    "coef_df = pd.DataFrame(logit.coef_, columns=X.columns, index=['Coefficient']).transpose().sort_values('Coefficient', ascending=False)\n",
    "coef_df.head(10)"
   ]
  },
  {
   "cell_type": "code",
   "execution_count": 54,
   "metadata": {},
   "outputs": [
    {
     "data": {
      "text/html": [
       "<div>\n",
       "<style scoped>\n",
       "    .dataframe tbody tr th:only-of-type {\n",
       "        vertical-align: middle;\n",
       "    }\n",
       "\n",
       "    .dataframe tbody tr th {\n",
       "        vertical-align: top;\n",
       "    }\n",
       "\n",
       "    .dataframe thead th {\n",
       "        text-align: right;\n",
       "    }\n",
       "</style>\n",
       "<table border=\"1\" class=\"dataframe\">\n",
       "  <thead>\n",
       "    <tr style=\"text-align: right;\">\n",
       "      <th></th>\n",
       "      <th>Coefficient</th>\n",
       "    </tr>\n",
       "  </thead>\n",
       "  <tbody>\n",
       "    <tr>\n",
       "      <th>reserved_room_type_C</th>\n",
       "      <td>-1.081048</td>\n",
       "    </tr>\n",
       "    <tr>\n",
       "      <th>reserved_room_type_H</th>\n",
       "      <td>-1.182909</td>\n",
       "    </tr>\n",
       "    <tr>\n",
       "      <th>reserved_room_type_G</th>\n",
       "      <td>-1.218581</td>\n",
       "    </tr>\n",
       "    <tr>\n",
       "      <th>arrival_date_month_August</th>\n",
       "      <td>-1.256992</td>\n",
       "    </tr>\n",
       "    <tr>\n",
       "      <th>assigned_room_type_H</th>\n",
       "      <td>-1.296074</td>\n",
       "    </tr>\n",
       "    <tr>\n",
       "      <th>customer_type_Contract</th>\n",
       "      <td>-1.473971</td>\n",
       "    </tr>\n",
       "    <tr>\n",
       "      <th>required_car_parking_spaces</th>\n",
       "      <td>-1.846220</td>\n",
       "    </tr>\n",
       "    <tr>\n",
       "      <th>assigned_room_type_C</th>\n",
       "      <td>-2.173218</td>\n",
       "    </tr>\n",
       "    <tr>\n",
       "      <th>meal_Undefined</th>\n",
       "      <td>-4.225987</td>\n",
       "    </tr>\n",
       "    <tr>\n",
       "      <th>meal_FB</th>\n",
       "      <td>-5.296959</td>\n",
       "    </tr>\n",
       "  </tbody>\n",
       "</table>\n",
       "</div>"
      ],
      "text/plain": [
       "                             Coefficient\n",
       "reserved_room_type_C           -1.081048\n",
       "reserved_room_type_H           -1.182909\n",
       "reserved_room_type_G           -1.218581\n",
       "arrival_date_month_August      -1.256992\n",
       "assigned_room_type_H           -1.296074\n",
       "customer_type_Contract         -1.473971\n",
       "required_car_parking_spaces    -1.846220\n",
       "assigned_room_type_C           -2.173218\n",
       "meal_Undefined                 -4.225987\n",
       "meal_FB                        -5.296959"
      ]
     },
     "execution_count": 54,
     "metadata": {},
     "output_type": "execute_result"
    }
   ],
   "source": [
    "coef_df.tail(10)"
   ]
  },
  {
   "cell_type": "markdown",
   "metadata": {},
   "source": [
    "Pretty similar coefficients. Meal types and reserved/assigned room types could be specific to each type of hotel. Seeing as assigned/reserved room type H and C have positive coefficients, it could be important to prediciting one of the classes. And reserved/assigned room type A and B have negative coefficients and could be important to predicting the other class.\n",
    "\n",
    "Dropping the country column didn't do much for us after all. The accuracy of the model stayed about the same, and our coefficients didn't change a whole lot. Instead of going on to make predicitions and look at metrics on a model we know is going to do well, let's start delving into a neural network and see if we can build one that's better than the logistic regression model"
   ]
  },
  {
   "cell_type": "markdown",
   "metadata": {},
   "source": [
    "First we'll create and split up our data set similar to how we did before, keeping in the country column this time."
   ]
  },
  {
   "cell_type": "code",
   "execution_count": 55,
   "metadata": {},
   "outputs": [],
   "source": [
    "modeling_df = df.drop(['reservation_status', 'reservation_status_date'], axis=1)\n",
    "modeling_df = pd.get_dummies(modeling_df, columns=['arrival_date_month', 'meal', 'country', 'market_segment',\n",
    "                                                   'distribution_channel', 'reserved_room_type', 'assigned_room_type',\n",
    "                                                   'deposit_type', 'customer_type'])\n",
    "X = modeling_df.drop('hotel', axis=1)\n",
    "y = modeling_df['hotel']\n",
    "y = y.map(lambda x: 1 if x == 'City Hotel' else 0)\n",
    "\n",
    "X_train, X_test, y_train, y_test = train_test_split(X, y, stratify=y, random_state=11)"
   ]
  },
  {
   "cell_type": "code",
   "execution_count": 56,
   "metadata": {},
   "outputs": [],
   "source": [
    "model = Sequential()\n",
    "model.add(Dense(247, input_dim=247, activation='relu'))\n",
    "model.add(Dense(1, activation='sigmoid'))\n",
    "model.compile(loss='binary_crossentropy', optimizer='adam', metrics=['accuracy'])"
   ]
  },
  {
   "cell_type": "code",
   "execution_count": 57,
   "metadata": {},
   "outputs": [
    {
     "data": {
      "text/plain": [
       "<keras.callbacks.callbacks.History at 0x21ba5e848c8>"
      ]
     },
     "execution_count": 57,
     "metadata": {},
     "output_type": "execute_result"
    }
   ],
   "source": [
    "model.fit(X_train, y_train, epochs=10, verbose=0)"
   ]
  },
  {
   "cell_type": "code",
   "execution_count": 58,
   "metadata": {},
   "outputs": [
    {
     "name": "stdout",
     "output_type": "stream",
     "text": [
      "Keras training model loss: 10.58\n",
      "Keras training model accuracy: 96.55%\n",
      "\n",
      "\n",
      "Keras Model Classification Report\n",
      "              precision    recall  f1-score   support\n",
      "\n",
      "           0       1.00      0.90      0.94      7963\n",
      "           1       0.96      1.00      0.98     17800\n",
      "\n",
      "    accuracy                           0.97     25763\n",
      "   macro avg       0.98      0.95      0.96     25763\n",
      "weighted avg       0.97      0.97      0.97     25763\n",
      "\n"
     ]
    }
   ],
   "source": [
    "accuracy = model.evaluate(X_train, y_train, verbose=0)\n",
    "print(f'Keras training model loss: {round(accuracy[0] * 100, 2)}')\n",
    "print(f'Keras training model accuracy: {round(accuracy[1] * 100, 2)}%')\n",
    "print('\\n')\n",
    "print('Keras Model Classification Report')\n",
    "keras_classes = model.predict_classes(X_test)\n",
    "print(classification_report(y_test, keras_classes))"
   ]
  },
  {
   "cell_type": "markdown",
   "metadata": {},
   "source": [
    "Right away our pretty basic neural network did a good job predicting hotel types. Let's try adding another dense layer, as well as adding more epochs to the model to let it train more."
   ]
  },
  {
   "cell_type": "code",
   "execution_count": 59,
   "metadata": {},
   "outputs": [],
   "source": [
    "model = Sequential()\n",
    "model.add(Dense(247, input_dim=247, activation='relu'))\n",
    "model.add(Dense(150, activation='relu'))\n",
    "model.add(Dense(1, activation='sigmoid'))\n",
    "model.compile(loss='binary_crossentropy', optimizer='adam', metrics=['accuracy'])"
   ]
  },
  {
   "cell_type": "code",
   "execution_count": 60,
   "metadata": {},
   "outputs": [
    {
     "data": {
      "text/plain": [
       "<keras.callbacks.callbacks.History at 0x21babb0b708>"
      ]
     },
     "execution_count": 60,
     "metadata": {},
     "output_type": "execute_result"
    }
   ],
   "source": [
    "model.fit(X_train, y_train, epochs=25, verbose=0)"
   ]
  },
  {
   "cell_type": "code",
   "execution_count": 61,
   "metadata": {},
   "outputs": [
    {
     "name": "stdout",
     "output_type": "stream",
     "text": [
      "Keras training model loss: 3.55\n",
      "Keras training model accuracy: 98.76%\n",
      "\n",
      "\n",
      "Keras Model Classification Report\n",
      "              precision    recall  f1-score   support\n",
      "\n",
      "           0       0.98      0.98      0.98      7963\n",
      "           1       0.99      0.99      0.99     17800\n",
      "\n",
      "    accuracy                           0.99     25763\n",
      "   macro avg       0.98      0.98      0.98     25763\n",
      "weighted avg       0.99      0.99      0.99     25763\n",
      "\n"
     ]
    }
   ],
   "source": [
    "accuracy = model.evaluate(X_train, y_train, verbose=0)\n",
    "print(f'Keras training model loss: {round(accuracy[0] * 100, 2)}')\n",
    "print(f'Keras training model accuracy: {round(accuracy[1] * 100, 2)}%')\n",
    "print('\\n')\n",
    "print('Keras Model Classification Report')\n",
    "keras_classes = model.predict_classes(X_test)\n",
    "print(classification_report(y_test, keras_classes))"
   ]
  }
 ],
 "metadata": {
  "kernelspec": {
   "display_name": "Python 3",
   "language": "python",
   "name": "python3"
  },
  "language_info": {
   "codemirror_mode": {
    "name": "ipython",
    "version": 3
   },
   "file_extension": ".py",
   "mimetype": "text/x-python",
   "name": "python",
   "nbconvert_exporter": "python",
   "pygments_lexer": "ipython3",
   "version": "3.7.6"
  }
 },
 "nbformat": 4,
 "nbformat_minor": 4
}
